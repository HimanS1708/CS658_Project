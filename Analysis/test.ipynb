{
 "cells": [
  {
   "cell_type": "code",
   "execution_count": 5,
   "metadata": {},
   "outputs": [],
   "source": [
    "import os\n",
    "\n",
    "import pandas as pd"
   ]
  },
  {
   "cell_type": "code",
   "execution_count": 8,
   "metadata": {},
   "outputs": [],
   "source": [
    "path = '../PDFMalLyzer/Extracts/Benign/'\n",
    "\n",
    "csv_files = [f for f in os.listdir(path) if f.startswith('Ben') and f.endswith('.csv')]\n",
    "\n",
    "for file in csv_files:\n",
    "    df = pd.read_csv(os.path.join(path, file))\n",
    "    for i in range(len(df)):\n",
    "        if(len(df.iloc[i]) != 44):\n",
    "            print(file)\n",
    "            print(i)\n",
    "            break"
   ]
  },
  {
   "cell_type": "code",
   "execution_count": 9,
   "metadata": {},
   "outputs": [],
   "source": [
    "path = '../PDFMalLyzer/Extracts/Malicious/'\n",
    "\n",
    "csv_files = [f for f in os.listdir(path) if f.startswith('f') and f.endswith('.csv')]\n",
    "\n",
    "for file in csv_files:\n",
    "    df = pd.read_csv(os.path.join(path, file))\n",
    "    for i in range(len(df)):\n",
    "        if(len(df.iloc[i]) != 44):\n",
    "            print(file)\n",
    "            print(i)\n",
    "            break"
   ]
  }
 ],
 "metadata": {
  "kernelspec": {
   "display_name": ".venv",
   "language": "python",
   "name": "python3"
  },
  "language_info": {
   "codemirror_mode": {
    "name": "ipython",
    "version": 3
   },
   "file_extension": ".py",
   "mimetype": "text/x-python",
   "name": "python",
   "nbconvert_exporter": "python",
   "pygments_lexer": "ipython3",
   "version": "3.12.4"
  }
 },
 "nbformat": 4,
 "nbformat_minor": 2
}
